{
 "cells": [
  {
   "cell_type": "markdown",
   "metadata": {},
   "source": [
    "# Pandas"
   ]
  },
  {
   "cell_type": "markdown",
   "metadata": {},
   "source": [
    "## Import pandas after `pip install pandas`"
   ]
  },
  {
   "cell_type": "code",
   "execution_count": 1,
   "metadata": {},
   "outputs": [],
   "source": [
    "import pandas as pd"
   ]
  },
  {
   "cell_type": "markdown",
   "metadata": {},
   "source": [
    "## Import **.csv** file"
   ]
  },
  {
   "cell_type": "code",
   "execution_count": 2,
   "metadata": {},
   "outputs": [
    {
     "data": {
      "text/html": [
       "<div>\n",
       "<style scoped>\n",
       "    .dataframe tbody tr th:only-of-type {\n",
       "        vertical-align: middle;\n",
       "    }\n",
       "\n",
       "    .dataframe tbody tr th {\n",
       "        vertical-align: top;\n",
       "    }\n",
       "\n",
       "    .dataframe thead th {\n",
       "        text-align: right;\n",
       "    }\n",
       "</style>\n",
       "<table border=\"1\" class=\"dataframe\">\n",
       "  <thead>\n",
       "    <tr style=\"text-align: right;\">\n",
       "      <th></th>\n",
       "      <th>Student ID</th>\n",
       "      <th>Name</th>\n",
       "      <th>Age</th>\n",
       "      <th>Score</th>\n",
       "      <th>Grade</th>\n",
       "      <th>Province</th>\n",
       "    </tr>\n",
       "  </thead>\n",
       "  <tbody>\n",
       "    <tr>\n",
       "      <th>0</th>\n",
       "      <td>5010110405</td>\n",
       "      <td>Jane</td>\n",
       "      <td>31</td>\n",
       "      <td>53.75</td>\n",
       "      <td>D</td>\n",
       "      <td>Songkla</td>\n",
       "    </tr>\n",
       "    <tr>\n",
       "      <th>1</th>\n",
       "      <td>5110110580</td>\n",
       "      <td>Joe</td>\n",
       "      <td>32</td>\n",
       "      <td>37.65</td>\n",
       "      <td>E</td>\n",
       "      <td>Bangkok</td>\n",
       "    </tr>\n",
       "    <tr>\n",
       "      <th>2</th>\n",
       "      <td>6310110042</td>\n",
       "      <td>Dan</td>\n",
       "      <td>19</td>\n",
       "      <td>ขาดสอบ</td>\n",
       "      <td>NaN</td>\n",
       "      <td>Chiangmai</td>\n",
       "    </tr>\n",
       "    <tr>\n",
       "      <th>3</th>\n",
       "      <td>6310110073</td>\n",
       "      <td>Tida</td>\n",
       "      <td>18</td>\n",
       "      <td>65</td>\n",
       "      <td>C+</td>\n",
       "      <td>Bangkok</td>\n",
       "    </tr>\n",
       "    <tr>\n",
       "      <th>4</th>\n",
       "      <td>6310110076</td>\n",
       "      <td>Jane</td>\n",
       "      <td>21</td>\n",
       "      <td>62</td>\n",
       "      <td>C</td>\n",
       "      <td>Yala</td>\n",
       "    </tr>\n",
       "    <tr>\n",
       "      <th>5</th>\n",
       "      <td>6310110092</td>\n",
       "      <td>Smile</td>\n",
       "      <td>20</td>\n",
       "      <td>60.5</td>\n",
       "      <td>C</td>\n",
       "      <td>Chiangrai</td>\n",
       "    </tr>\n",
       "    <tr>\n",
       "      <th>6</th>\n",
       "      <td>6310110107</td>\n",
       "      <td>Cole</td>\n",
       "      <td>18</td>\n",
       "      <td>NaN</td>\n",
       "      <td>NaN</td>\n",
       "      <td>Phuket</td>\n",
       "    </tr>\n",
       "    <tr>\n",
       "      <th>7</th>\n",
       "      <td>6310110109</td>\n",
       "      <td>Tommy</td>\n",
       "      <td>19</td>\n",
       "      <td>51.75</td>\n",
       "      <td>D</td>\n",
       "      <td>Bangkok</td>\n",
       "    </tr>\n",
       "    <tr>\n",
       "      <th>8</th>\n",
       "      <td>6310110145</td>\n",
       "      <td>Jerry</td>\n",
       "      <td>19</td>\n",
       "      <td>64.75</td>\n",
       "      <td>C</td>\n",
       "      <td>Nan</td>\n",
       "    </tr>\n",
       "    <tr>\n",
       "      <th>9</th>\n",
       "      <td>6310110147</td>\n",
       "      <td>Anna</td>\n",
       "      <td>18</td>\n",
       "      <td>28.25</td>\n",
       "      <td>E</td>\n",
       "      <td>Krabi</td>\n",
       "    </tr>\n",
       "    <tr>\n",
       "      <th>10</th>\n",
       "      <td>6310110150</td>\n",
       "      <td>Scott</td>\n",
       "      <td>-15</td>\n",
       "      <td>24.5</td>\n",
       "      <td>E</td>\n",
       "      <td>Ang Thong</td>\n",
       "    </tr>\n",
       "    <tr>\n",
       "      <th>11</th>\n",
       "      <td>6310110243</td>\n",
       "      <td>Utz</td>\n",
       "      <td>20</td>\n",
       "      <td>56.25</td>\n",
       "      <td>D+</td>\n",
       "      <td>Kalasin</td>\n",
       "    </tr>\n",
       "    <tr>\n",
       "      <th>12</th>\n",
       "      <td>6310110250</td>\n",
       "      <td>Rome</td>\n",
       "      <td>19</td>\n",
       "      <td>17.25</td>\n",
       "      <td>E</td>\n",
       "      <td>Kanchanaburi</td>\n",
       "    </tr>\n",
       "    <tr>\n",
       "      <th>13</th>\n",
       "      <td>6310110251</td>\n",
       "      <td>Ronda</td>\n",
       "      <td>18</td>\n",
       "      <td>59.63</td>\n",
       "      <td>D+</td>\n",
       "      <td>Lampang</td>\n",
       "    </tr>\n",
       "    <tr>\n",
       "      <th>14</th>\n",
       "      <td>6310110260</td>\n",
       "      <td>Wanda</td>\n",
       "      <td>21</td>\n",
       "      <td>54.5</td>\n",
       "      <td>D</td>\n",
       "      <td>Bangkok</td>\n",
       "    </tr>\n",
       "    <tr>\n",
       "      <th>15</th>\n",
       "      <td>6310110349</td>\n",
       "      <td>Nita</td>\n",
       "      <td>20</td>\n",
       "      <td>32.75</td>\n",
       "      <td>E</td>\n",
       "      <td>Mae Hong Son</td>\n",
       "    </tr>\n",
       "    <tr>\n",
       "      <th>16</th>\n",
       "      <td>6310110363</td>\n",
       "      <td>Nida</td>\n",
       "      <td>18</td>\n",
       "      <td>50</td>\n",
       "      <td>D</td>\n",
       "      <td>Loei</td>\n",
       "    </tr>\n",
       "    <tr>\n",
       "      <th>17</th>\n",
       "      <td>6310110383</td>\n",
       "      <td>Swat</td>\n",
       "      <td>19</td>\n",
       "      <td>88.5</td>\n",
       "      <td>A</td>\n",
       "      <td>Nakhon Pathom</td>\n",
       "    </tr>\n",
       "    <tr>\n",
       "      <th>18</th>\n",
       "      <td>6310110389</td>\n",
       "      <td>Tim</td>\n",
       "      <td>19</td>\n",
       "      <td>29.38</td>\n",
       "      <td>E</td>\n",
       "      <td>Bangkok</td>\n",
       "    </tr>\n",
       "    <tr>\n",
       "      <th>19</th>\n",
       "      <td>6310110401</td>\n",
       "      <td>Andrew</td>\n",
       "      <td>18</td>\n",
       "      <td>75.13</td>\n",
       "      <td>B</td>\n",
       "      <td>Bangkok</td>\n",
       "    </tr>\n",
       "  </tbody>\n",
       "</table>\n",
       "</div>"
      ],
      "text/plain": [
       "    Student ID    Name  Age   Score Grade       Province\n",
       "0   5010110405    Jane   31   53.75     D        Songkla\n",
       "1   5110110580     Joe   32   37.65     E        Bangkok\n",
       "2   6310110042     Dan   19  ขาดสอบ   NaN      Chiangmai\n",
       "3   6310110073    Tida   18      65    C+        Bangkok\n",
       "4   6310110076    Jane   21      62     C           Yala\n",
       "5   6310110092   Smile   20    60.5     C      Chiangrai\n",
       "6   6310110107    Cole   18     NaN   NaN         Phuket\n",
       "7   6310110109   Tommy   19   51.75     D        Bangkok\n",
       "8   6310110145   Jerry   19   64.75     C            Nan\n",
       "9   6310110147    Anna   18   28.25     E          Krabi\n",
       "10  6310110150   Scott  -15    24.5     E      Ang Thong\n",
       "11  6310110243     Utz   20   56.25    D+        Kalasin\n",
       "12  6310110250    Rome   19   17.25     E   Kanchanaburi\n",
       "13  6310110251   Ronda   18   59.63    D+        Lampang\n",
       "14  6310110260   Wanda   21    54.5     D        Bangkok\n",
       "15  6310110349    Nita   20   32.75     E   Mae Hong Son\n",
       "16  6310110363    Nida   18      50     D           Loei\n",
       "17  6310110383    Swat   19    88.5     A  Nakhon Pathom\n",
       "18  6310110389     Tim   19   29.38     E        Bangkok\n",
       "19  6310110401  Andrew   18   75.13     B        Bangkok"
      ]
     },
     "execution_count": 2,
     "metadata": {},
     "output_type": "execute_result"
    }
   ],
   "source": [
    "df = pd.read_csv(\"./mystudents.csv\")\n",
    "df"
   ]
  },
  {
   "cell_type": "code",
   "execution_count": 3,
   "metadata": {},
   "outputs": [
    {
     "data": {
      "text/html": [
       "<div>\n",
       "<style scoped>\n",
       "    .dataframe tbody tr th:only-of-type {\n",
       "        vertical-align: middle;\n",
       "    }\n",
       "\n",
       "    .dataframe tbody tr th {\n",
       "        vertical-align: top;\n",
       "    }\n",
       "\n",
       "    .dataframe thead th {\n",
       "        text-align: right;\n",
       "    }\n",
       "</style>\n",
       "<table border=\"1\" class=\"dataframe\">\n",
       "  <thead>\n",
       "    <tr style=\"text-align: right;\">\n",
       "      <th></th>\n",
       "      <th>Student ID</th>\n",
       "      <th>Name</th>\n",
       "      <th>Age</th>\n",
       "      <th>Score</th>\n",
       "      <th>Grade</th>\n",
       "      <th>Province</th>\n",
       "    </tr>\n",
       "  </thead>\n",
       "  <tbody>\n",
       "    <tr>\n",
       "      <th>0</th>\n",
       "      <td>5010110405</td>\n",
       "      <td>Jane</td>\n",
       "      <td>31</td>\n",
       "      <td>53.75</td>\n",
       "      <td>D</td>\n",
       "      <td>Songkla</td>\n",
       "    </tr>\n",
       "    <tr>\n",
       "      <th>1</th>\n",
       "      <td>5110110580</td>\n",
       "      <td>Joe</td>\n",
       "      <td>32</td>\n",
       "      <td>37.65</td>\n",
       "      <td>E</td>\n",
       "      <td>Bangkok</td>\n",
       "    </tr>\n",
       "    <tr>\n",
       "      <th>2</th>\n",
       "      <td>6310110042</td>\n",
       "      <td>Dan</td>\n",
       "      <td>19</td>\n",
       "      <td>ขาดสอบ</td>\n",
       "      <td>NaN</td>\n",
       "      <td>Chiangmai</td>\n",
       "    </tr>\n",
       "    <tr>\n",
       "      <th>3</th>\n",
       "      <td>6310110073</td>\n",
       "      <td>Tida</td>\n",
       "      <td>18</td>\n",
       "      <td>65</td>\n",
       "      <td>C+</td>\n",
       "      <td>Bangkok</td>\n",
       "    </tr>\n",
       "    <tr>\n",
       "      <th>4</th>\n",
       "      <td>6310110076</td>\n",
       "      <td>Jane</td>\n",
       "      <td>21</td>\n",
       "      <td>62</td>\n",
       "      <td>C</td>\n",
       "      <td>Yala</td>\n",
       "    </tr>\n",
       "  </tbody>\n",
       "</table>\n",
       "</div>"
      ],
      "text/plain": [
       "   Student ID  Name  Age   Score Grade   Province\n",
       "0  5010110405  Jane   31   53.75     D    Songkla\n",
       "1  5110110580   Joe   32   37.65     E    Bangkok\n",
       "2  6310110042   Dan   19  ขาดสอบ   NaN  Chiangmai\n",
       "3  6310110073  Tida   18      65    C+    Bangkok\n",
       "4  6310110076  Jane   21      62     C       Yala"
      ]
     },
     "execution_count": 3,
     "metadata": {},
     "output_type": "execute_result"
    }
   ],
   "source": [
    "df.head()"
   ]
  },
  {
   "cell_type": "code",
   "execution_count": 4,
   "metadata": {},
   "outputs": [
    {
     "data": {
      "text/html": [
       "<div>\n",
       "<style scoped>\n",
       "    .dataframe tbody tr th:only-of-type {\n",
       "        vertical-align: middle;\n",
       "    }\n",
       "\n",
       "    .dataframe tbody tr th {\n",
       "        vertical-align: top;\n",
       "    }\n",
       "\n",
       "    .dataframe thead th {\n",
       "        text-align: right;\n",
       "    }\n",
       "</style>\n",
       "<table border=\"1\" class=\"dataframe\">\n",
       "  <thead>\n",
       "    <tr style=\"text-align: right;\">\n",
       "      <th></th>\n",
       "      <th>Student ID</th>\n",
       "      <th>Name</th>\n",
       "      <th>Age</th>\n",
       "      <th>Score</th>\n",
       "      <th>Grade</th>\n",
       "      <th>Province</th>\n",
       "    </tr>\n",
       "  </thead>\n",
       "  <tbody>\n",
       "    <tr>\n",
       "      <th>15</th>\n",
       "      <td>6310110349</td>\n",
       "      <td>Nita</td>\n",
       "      <td>20</td>\n",
       "      <td>32.75</td>\n",
       "      <td>E</td>\n",
       "      <td>Mae Hong Son</td>\n",
       "    </tr>\n",
       "    <tr>\n",
       "      <th>16</th>\n",
       "      <td>6310110363</td>\n",
       "      <td>Nida</td>\n",
       "      <td>18</td>\n",
       "      <td>50</td>\n",
       "      <td>D</td>\n",
       "      <td>Loei</td>\n",
       "    </tr>\n",
       "    <tr>\n",
       "      <th>17</th>\n",
       "      <td>6310110383</td>\n",
       "      <td>Swat</td>\n",
       "      <td>19</td>\n",
       "      <td>88.5</td>\n",
       "      <td>A</td>\n",
       "      <td>Nakhon Pathom</td>\n",
       "    </tr>\n",
       "    <tr>\n",
       "      <th>18</th>\n",
       "      <td>6310110389</td>\n",
       "      <td>Tim</td>\n",
       "      <td>19</td>\n",
       "      <td>29.38</td>\n",
       "      <td>E</td>\n",
       "      <td>Bangkok</td>\n",
       "    </tr>\n",
       "    <tr>\n",
       "      <th>19</th>\n",
       "      <td>6310110401</td>\n",
       "      <td>Andrew</td>\n",
       "      <td>18</td>\n",
       "      <td>75.13</td>\n",
       "      <td>B</td>\n",
       "      <td>Bangkok</td>\n",
       "    </tr>\n",
       "  </tbody>\n",
       "</table>\n",
       "</div>"
      ],
      "text/plain": [
       "    Student ID    Name  Age  Score Grade       Province\n",
       "15  6310110349    Nita   20  32.75     E   Mae Hong Son\n",
       "16  6310110363    Nida   18     50     D           Loei\n",
       "17  6310110383    Swat   19   88.5     A  Nakhon Pathom\n",
       "18  6310110389     Tim   19  29.38     E        Bangkok\n",
       "19  6310110401  Andrew   18  75.13     B        Bangkok"
      ]
     },
     "execution_count": 4,
     "metadata": {},
     "output_type": "execute_result"
    }
   ],
   "source": [
    "df.tail()"
   ]
  },
  {
   "cell_type": "code",
   "execution_count": 5,
   "metadata": {},
   "outputs": [
    {
     "name": "stdout",
     "output_type": "stream",
     "text": [
      "<class 'pandas.core.frame.DataFrame'>\n",
      "RangeIndex: 20 entries, 0 to 19\n",
      "Data columns (total 6 columns):\n",
      " #   Column      Non-Null Count  Dtype \n",
      "---  ------      --------------  ----- \n",
      " 0   Student ID  20 non-null     int64 \n",
      " 1   Name        20 non-null     object\n",
      " 2   Age         20 non-null     int64 \n",
      " 3   Score       19 non-null     object\n",
      " 4   Grade       18 non-null     object\n",
      " 5   Province    20 non-null     object\n",
      "dtypes: int64(2), object(4)\n",
      "memory usage: 1.1+ KB\n"
     ]
    }
   ],
   "source": [
    "df.info()"
   ]
  },
  {
   "cell_type": "code",
   "execution_count": 6,
   "metadata": {},
   "outputs": [
    {
     "data": {
      "text/html": [
       "<div>\n",
       "<style scoped>\n",
       "    .dataframe tbody tr th:only-of-type {\n",
       "        vertical-align: middle;\n",
       "    }\n",
       "\n",
       "    .dataframe tbody tr th {\n",
       "        vertical-align: top;\n",
       "    }\n",
       "\n",
       "    .dataframe thead th {\n",
       "        text-align: right;\n",
       "    }\n",
       "</style>\n",
       "<table border=\"1\" class=\"dataframe\">\n",
       "  <thead>\n",
       "    <tr style=\"text-align: right;\">\n",
       "      <th></th>\n",
       "      <th>Student ID</th>\n",
       "      <th>Age</th>\n",
       "    </tr>\n",
       "  </thead>\n",
       "  <tbody>\n",
       "    <tr>\n",
       "      <th>count</th>\n",
       "      <td>2.000000e+01</td>\n",
       "      <td>20.000000</td>\n",
       "    </tr>\n",
       "    <tr>\n",
       "      <th>mean</th>\n",
       "      <td>6.185110e+09</td>\n",
       "      <td>18.600000</td>\n",
       "    </tr>\n",
       "    <tr>\n",
       "      <th>std</th>\n",
       "      <td>3.850836e+08</td>\n",
       "      <td>8.834144</td>\n",
       "    </tr>\n",
       "    <tr>\n",
       "      <th>min</th>\n",
       "      <td>5.010110e+09</td>\n",
       "      <td>-15.000000</td>\n",
       "    </tr>\n",
       "    <tr>\n",
       "      <th>25%</th>\n",
       "      <td>6.310110e+09</td>\n",
       "      <td>18.000000</td>\n",
       "    </tr>\n",
       "    <tr>\n",
       "      <th>50%</th>\n",
       "      <td>6.310110e+09</td>\n",
       "      <td>19.000000</td>\n",
       "    </tr>\n",
       "    <tr>\n",
       "      <th>75%</th>\n",
       "      <td>6.310110e+09</td>\n",
       "      <td>20.000000</td>\n",
       "    </tr>\n",
       "    <tr>\n",
       "      <th>max</th>\n",
       "      <td>6.310110e+09</td>\n",
       "      <td>32.000000</td>\n",
       "    </tr>\n",
       "  </tbody>\n",
       "</table>\n",
       "</div>"
      ],
      "text/plain": [
       "         Student ID        Age\n",
       "count  2.000000e+01  20.000000\n",
       "mean   6.185110e+09  18.600000\n",
       "std    3.850836e+08   8.834144\n",
       "min    5.010110e+09 -15.000000\n",
       "25%    6.310110e+09  18.000000\n",
       "50%    6.310110e+09  19.000000\n",
       "75%    6.310110e+09  20.000000\n",
       "max    6.310110e+09  32.000000"
      ]
     },
     "execution_count": 6,
     "metadata": {},
     "output_type": "execute_result"
    }
   ],
   "source": [
    "df.describe()"
   ]
  },
  {
   "cell_type": "code",
   "execution_count": 7,
   "metadata": {},
   "outputs": [
    {
     "data": {
      "text/plain": [
       "RangeIndex(start=0, stop=20, step=1)"
      ]
     },
     "execution_count": 7,
     "metadata": {},
     "output_type": "execute_result"
    }
   ],
   "source": [
    "df.index"
   ]
  },
  {
   "cell_type": "code",
   "execution_count": 8,
   "metadata": {},
   "outputs": [
    {
     "data": {
      "text/plain": [
       "Index(['Student ID', 'Name', 'Age', 'Score', 'Grade', 'Province'], dtype='object')"
      ]
     },
     "execution_count": 8,
     "metadata": {},
     "output_type": "execute_result"
    }
   ],
   "source": [
    "df.columns"
   ]
  },
  {
   "cell_type": "code",
   "execution_count": 9,
   "metadata": {},
   "outputs": [
    {
     "data": {
      "text/plain": [
       "Student ID     int64\n",
       "Name          object\n",
       "Age            int64\n",
       "Score         object\n",
       "Grade         object\n",
       "Province      object\n",
       "dtype: object"
      ]
     },
     "execution_count": 9,
     "metadata": {},
     "output_type": "execute_result"
    }
   ],
   "source": [
    "df.dtypes"
   ]
  },
  {
   "cell_type": "code",
   "execution_count": 10,
   "metadata": {},
   "outputs": [
    {
     "data": {
      "text/plain": [
       "array([[5010110405, 'Jane', 31, '53.75', 'D', 'Songkla'],\n",
       "       [5110110580, 'Joe', 32, '37.65', 'E', 'Bangkok'],\n",
       "       [6310110042, 'Dan', 19, 'ขาดสอบ', nan, 'Chiangmai'],\n",
       "       [6310110073, 'Tida', 18, '65', 'C+', 'Bangkok'],\n",
       "       [6310110076, 'Jane', 21, '62', 'C', 'Yala'],\n",
       "       [6310110092, 'Smile', 20, '60.5', 'C', 'Chiangrai'],\n",
       "       [6310110107, 'Cole', 18, nan, nan, 'Phuket'],\n",
       "       [6310110109, 'Tommy', 19, '51.75', 'D', 'Bangkok'],\n",
       "       [6310110145, 'Jerry', 19, '64.75', 'C', 'Nan'],\n",
       "       [6310110147, 'Anna', 18, '28.25', 'E', 'Krabi'],\n",
       "       [6310110150, 'Scott', -15, '24.5', 'E', 'Ang Thong'],\n",
       "       [6310110243, 'Utz', 20, '56.25', 'D+', 'Kalasin'],\n",
       "       [6310110250, 'Rome', 19, '17.25', 'E', 'Kanchanaburi'],\n",
       "       [6310110251, 'Ronda', 18, '59.63', 'D+', 'Lampang'],\n",
       "       [6310110260, 'Wanda', 21, '54.5', 'D', 'Bangkok'],\n",
       "       [6310110349, 'Nita', 20, '32.75', 'E', 'Mae Hong Son'],\n",
       "       [6310110363, 'Nida', 18, '50', 'D', 'Loei'],\n",
       "       [6310110383, 'Swat', 19, '88.5', 'A', 'Nakhon Pathom'],\n",
       "       [6310110389, 'Tim', 19, '29.38', 'E', 'Bangkok'],\n",
       "       [6310110401, 'Andrew', 18, '75.13', 'B', 'Bangkok']], dtype=object)"
      ]
     },
     "execution_count": 10,
     "metadata": {},
     "output_type": "execute_result"
    }
   ],
   "source": [
    "df.values"
   ]
  },
  {
   "cell_type": "code",
   "execution_count": 11,
   "metadata": {},
   "outputs": [
    {
     "data": {
      "text/plain": [
       "False"
      ]
     },
     "execution_count": 11,
     "metadata": {},
     "output_type": "execute_result"
    }
   ],
   "source": [
    "df.empty"
   ]
  },
  {
   "cell_type": "code",
   "execution_count": 12,
   "metadata": {},
   "outputs": [
    {
     "data": {
      "text/plain": [
       "(20, 6)"
      ]
     },
     "execution_count": 12,
     "metadata": {},
     "output_type": "execute_result"
    }
   ],
   "source": [
    "df.shape"
   ]
  },
  {
   "cell_type": "code",
   "execution_count": 13,
   "metadata": {},
   "outputs": [
    {
     "data": {
      "text/plain": [
       "120"
      ]
     },
     "execution_count": 13,
     "metadata": {},
     "output_type": "execute_result"
    }
   ],
   "source": [
    "df.size"
   ]
  },
  {
   "cell_type": "code",
   "execution_count": 14,
   "metadata": {},
   "outputs": [
    {
     "data": {
      "text/plain": [
       "0       Jane\n",
       "1        Joe\n",
       "2        Dan\n",
       "3       Tida\n",
       "4       Jane\n",
       "5      Smile\n",
       "6       Cole\n",
       "7      Tommy\n",
       "8      Jerry\n",
       "9       Anna\n",
       "10     Scott\n",
       "11       Utz\n",
       "12      Rome\n",
       "13     Ronda\n",
       "14     Wanda\n",
       "15      Nita\n",
       "16      Nida\n",
       "17      Swat\n",
       "18       Tim\n",
       "19    Andrew\n",
       "Name: Name, dtype: object"
      ]
     },
     "execution_count": 14,
     "metadata": {},
     "output_type": "execute_result"
    }
   ],
   "source": [
    "df[\"Name\"]\n",
    "df.Name"
   ]
  },
  {
   "cell_type": "code",
   "execution_count": 15,
   "metadata": {},
   "outputs": [
    {
     "data": {
      "text/plain": [
       "0       Jane\n",
       "1        Joe\n",
       "2        Dan\n",
       "3       Tida\n",
       "4       Jane\n",
       "5      Smile\n",
       "6       Cole\n",
       "7      Tommy\n",
       "8      Jerry\n",
       "9       Anna\n",
       "10     Scott\n",
       "11       Utz\n",
       "12      Rome\n",
       "13     Ronda\n",
       "14     Wanda\n",
       "15      Nita\n",
       "16      Nida\n",
       "17      Swat\n",
       "18       Tim\n",
       "19    Andrew\n",
       "Name: Name, dtype: object"
      ]
     },
     "execution_count": 15,
     "metadata": {},
     "output_type": "execute_result"
    }
   ],
   "source": [
    "df.get(\"Name\")"
   ]
  },
  {
   "cell_type": "code",
   "execution_count": 16,
   "metadata": {},
   "outputs": [
    {
     "data": {
      "text/html": [
       "<div>\n",
       "<style scoped>\n",
       "    .dataframe tbody tr th:only-of-type {\n",
       "        vertical-align: middle;\n",
       "    }\n",
       "\n",
       "    .dataframe tbody tr th {\n",
       "        vertical-align: top;\n",
       "    }\n",
       "\n",
       "    .dataframe thead th {\n",
       "        text-align: right;\n",
       "    }\n",
       "</style>\n",
       "<table border=\"1\" class=\"dataframe\">\n",
       "  <thead>\n",
       "    <tr style=\"text-align: right;\">\n",
       "      <th></th>\n",
       "      <th>Name</th>\n",
       "      <th>Age</th>\n",
       "    </tr>\n",
       "  </thead>\n",
       "  <tbody>\n",
       "    <tr>\n",
       "      <th>0</th>\n",
       "      <td>Jane</td>\n",
       "      <td>31</td>\n",
       "    </tr>\n",
       "    <tr>\n",
       "      <th>1</th>\n",
       "      <td>Joe</td>\n",
       "      <td>32</td>\n",
       "    </tr>\n",
       "    <tr>\n",
       "      <th>2</th>\n",
       "      <td>Dan</td>\n",
       "      <td>19</td>\n",
       "    </tr>\n",
       "    <tr>\n",
       "      <th>3</th>\n",
       "      <td>Tida</td>\n",
       "      <td>18</td>\n",
       "    </tr>\n",
       "    <tr>\n",
       "      <th>4</th>\n",
       "      <td>Jane</td>\n",
       "      <td>21</td>\n",
       "    </tr>\n",
       "    <tr>\n",
       "      <th>5</th>\n",
       "      <td>Smile</td>\n",
       "      <td>20</td>\n",
       "    </tr>\n",
       "    <tr>\n",
       "      <th>6</th>\n",
       "      <td>Cole</td>\n",
       "      <td>18</td>\n",
       "    </tr>\n",
       "    <tr>\n",
       "      <th>7</th>\n",
       "      <td>Tommy</td>\n",
       "      <td>19</td>\n",
       "    </tr>\n",
       "    <tr>\n",
       "      <th>8</th>\n",
       "      <td>Jerry</td>\n",
       "      <td>19</td>\n",
       "    </tr>\n",
       "    <tr>\n",
       "      <th>9</th>\n",
       "      <td>Anna</td>\n",
       "      <td>18</td>\n",
       "    </tr>\n",
       "    <tr>\n",
       "      <th>10</th>\n",
       "      <td>Scott</td>\n",
       "      <td>-15</td>\n",
       "    </tr>\n",
       "    <tr>\n",
       "      <th>11</th>\n",
       "      <td>Utz</td>\n",
       "      <td>20</td>\n",
       "    </tr>\n",
       "    <tr>\n",
       "      <th>12</th>\n",
       "      <td>Rome</td>\n",
       "      <td>19</td>\n",
       "    </tr>\n",
       "    <tr>\n",
       "      <th>13</th>\n",
       "      <td>Ronda</td>\n",
       "      <td>18</td>\n",
       "    </tr>\n",
       "    <tr>\n",
       "      <th>14</th>\n",
       "      <td>Wanda</td>\n",
       "      <td>21</td>\n",
       "    </tr>\n",
       "    <tr>\n",
       "      <th>15</th>\n",
       "      <td>Nita</td>\n",
       "      <td>20</td>\n",
       "    </tr>\n",
       "    <tr>\n",
       "      <th>16</th>\n",
       "      <td>Nida</td>\n",
       "      <td>18</td>\n",
       "    </tr>\n",
       "    <tr>\n",
       "      <th>17</th>\n",
       "      <td>Swat</td>\n",
       "      <td>19</td>\n",
       "    </tr>\n",
       "    <tr>\n",
       "      <th>18</th>\n",
       "      <td>Tim</td>\n",
       "      <td>19</td>\n",
       "    </tr>\n",
       "    <tr>\n",
       "      <th>19</th>\n",
       "      <td>Andrew</td>\n",
       "      <td>18</td>\n",
       "    </tr>\n",
       "  </tbody>\n",
       "</table>\n",
       "</div>"
      ],
      "text/plain": [
       "      Name  Age\n",
       "0     Jane   31\n",
       "1      Joe   32\n",
       "2      Dan   19\n",
       "3     Tida   18\n",
       "4     Jane   21\n",
       "5    Smile   20\n",
       "6     Cole   18\n",
       "7    Tommy   19\n",
       "8    Jerry   19\n",
       "9     Anna   18\n",
       "10   Scott  -15\n",
       "11     Utz   20\n",
       "12    Rome   19\n",
       "13   Ronda   18\n",
       "14   Wanda   21\n",
       "15    Nita   20\n",
       "16    Nida   18\n",
       "17    Swat   19\n",
       "18     Tim   19\n",
       "19  Andrew   18"
      ]
     },
     "execution_count": 16,
     "metadata": {},
     "output_type": "execute_result"
    }
   ],
   "source": [
    "df[[\"Name\", \"Age\"]]"
   ]
  },
  {
   "cell_type": "code",
   "execution_count": 17,
   "metadata": {},
   "outputs": [
    {
     "data": {
      "text/html": [
       "<div>\n",
       "<style scoped>\n",
       "    .dataframe tbody tr th:only-of-type {\n",
       "        vertical-align: middle;\n",
       "    }\n",
       "\n",
       "    .dataframe tbody tr th {\n",
       "        vertical-align: top;\n",
       "    }\n",
       "\n",
       "    .dataframe thead th {\n",
       "        text-align: right;\n",
       "    }\n",
       "</style>\n",
       "<table border=\"1\" class=\"dataframe\">\n",
       "  <thead>\n",
       "    <tr style=\"text-align: right;\">\n",
       "      <th></th>\n",
       "      <th>Student ID</th>\n",
       "      <th>Name</th>\n",
       "      <th>Age</th>\n",
       "      <th>Score</th>\n",
       "      <th>Grade</th>\n",
       "      <th>Province</th>\n",
       "    </tr>\n",
       "  </thead>\n",
       "  <tbody>\n",
       "    <tr>\n",
       "      <th>0</th>\n",
       "      <td>5010110405</td>\n",
       "      <td>Jane</td>\n",
       "      <td>31</td>\n",
       "      <td>53.75</td>\n",
       "      <td>D</td>\n",
       "      <td>Songkla</td>\n",
       "    </tr>\n",
       "    <tr>\n",
       "      <th>1</th>\n",
       "      <td>5110110580</td>\n",
       "      <td>Joe</td>\n",
       "      <td>32</td>\n",
       "      <td>37.65</td>\n",
       "      <td>E</td>\n",
       "      <td>Bangkok</td>\n",
       "    </tr>\n",
       "  </tbody>\n",
       "</table>\n",
       "</div>"
      ],
      "text/plain": [
       "   Student ID  Name  Age  Score Grade Province\n",
       "0  5010110405  Jane   31  53.75     D  Songkla\n",
       "1  5110110580   Joe   32  37.65     E  Bangkok"
      ]
     },
     "execution_count": 17,
     "metadata": {},
     "output_type": "execute_result"
    }
   ],
   "source": [
    "df[0:2]"
   ]
  },
  {
   "cell_type": "code",
   "execution_count": 18,
   "metadata": {},
   "outputs": [
    {
     "data": {
      "text/html": [
       "<div>\n",
       "<style scoped>\n",
       "    .dataframe tbody tr th:only-of-type {\n",
       "        vertical-align: middle;\n",
       "    }\n",
       "\n",
       "    .dataframe tbody tr th {\n",
       "        vertical-align: top;\n",
       "    }\n",
       "\n",
       "    .dataframe thead th {\n",
       "        text-align: right;\n",
       "    }\n",
       "</style>\n",
       "<table border=\"1\" class=\"dataframe\">\n",
       "  <thead>\n",
       "    <tr style=\"text-align: right;\">\n",
       "      <th></th>\n",
       "      <th>Student ID</th>\n",
       "      <th>Name</th>\n",
       "      <th>Age</th>\n",
       "      <th>Score</th>\n",
       "      <th>Grade</th>\n",
       "      <th>Province</th>\n",
       "    </tr>\n",
       "  </thead>\n",
       "  <tbody>\n",
       "    <tr>\n",
       "      <th>0</th>\n",
       "      <td>5010110405</td>\n",
       "      <td>Jane</td>\n",
       "      <td>31</td>\n",
       "      <td>53.75</td>\n",
       "      <td>D</td>\n",
       "      <td>Songkla</td>\n",
       "    </tr>\n",
       "    <tr>\n",
       "      <th>2</th>\n",
       "      <td>6310110042</td>\n",
       "      <td>Dan</td>\n",
       "      <td>19</td>\n",
       "      <td>ขาดสอบ</td>\n",
       "      <td>NaN</td>\n",
       "      <td>Chiangmai</td>\n",
       "    </tr>\n",
       "    <tr>\n",
       "      <th>4</th>\n",
       "      <td>6310110076</td>\n",
       "      <td>Jane</td>\n",
       "      <td>21</td>\n",
       "      <td>62</td>\n",
       "      <td>C</td>\n",
       "      <td>Yala</td>\n",
       "    </tr>\n",
       "  </tbody>\n",
       "</table>\n",
       "</div>"
      ],
      "text/plain": [
       "   Student ID  Name  Age   Score Grade   Province\n",
       "0  5010110405  Jane   31   53.75     D    Songkla\n",
       "2  6310110042   Dan   19  ขาดสอบ   NaN  Chiangmai\n",
       "4  6310110076  Jane   21      62     C       Yala"
      ]
     },
     "execution_count": 18,
     "metadata": {},
     "output_type": "execute_result"
    }
   ],
   "source": [
    "df[0:6:2]"
   ]
  },
  {
   "cell_type": "code",
   "execution_count": 19,
   "metadata": {},
   "outputs": [
    {
     "data": {
      "text/html": [
       "<div>\n",
       "<style scoped>\n",
       "    .dataframe tbody tr th:only-of-type {\n",
       "        vertical-align: middle;\n",
       "    }\n",
       "\n",
       "    .dataframe tbody tr th {\n",
       "        vertical-align: top;\n",
       "    }\n",
       "\n",
       "    .dataframe thead th {\n",
       "        text-align: right;\n",
       "    }\n",
       "</style>\n",
       "<table border=\"1\" class=\"dataframe\">\n",
       "  <thead>\n",
       "    <tr style=\"text-align: right;\">\n",
       "      <th></th>\n",
       "      <th>Student ID</th>\n",
       "      <th>Name</th>\n",
       "      <th>Age</th>\n",
       "      <th>Score</th>\n",
       "      <th>Grade</th>\n",
       "      <th>Province</th>\n",
       "    </tr>\n",
       "  </thead>\n",
       "  <tbody>\n",
       "    <tr>\n",
       "      <th>0</th>\n",
       "      <td>5010110405</td>\n",
       "      <td>Jane</td>\n",
       "      <td>31</td>\n",
       "      <td>53.75</td>\n",
       "      <td>D</td>\n",
       "      <td>Songkla</td>\n",
       "    </tr>\n",
       "    <tr>\n",
       "      <th>3</th>\n",
       "      <td>6310110073</td>\n",
       "      <td>Tida</td>\n",
       "      <td>18</td>\n",
       "      <td>65</td>\n",
       "      <td>C+</td>\n",
       "      <td>Bangkok</td>\n",
       "    </tr>\n",
       "    <tr>\n",
       "      <th>6</th>\n",
       "      <td>6310110107</td>\n",
       "      <td>Cole</td>\n",
       "      <td>18</td>\n",
       "      <td>NaN</td>\n",
       "      <td>NaN</td>\n",
       "      <td>Phuket</td>\n",
       "    </tr>\n",
       "    <tr>\n",
       "      <th>9</th>\n",
       "      <td>6310110147</td>\n",
       "      <td>Anna</td>\n",
       "      <td>18</td>\n",
       "      <td>28.25</td>\n",
       "      <td>E</td>\n",
       "      <td>Krabi</td>\n",
       "    </tr>\n",
       "  </tbody>\n",
       "</table>\n",
       "</div>"
      ],
      "text/plain": [
       "   Student ID  Name  Age  Score Grade Province\n",
       "0  5010110405  Jane   31  53.75     D  Songkla\n",
       "3  6310110073  Tida   18     65    C+  Bangkok\n",
       "6  6310110107  Cole   18    NaN   NaN   Phuket\n",
       "9  6310110147  Anna   18  28.25     E    Krabi"
      ]
     },
     "execution_count": 19,
     "metadata": {},
     "output_type": "execute_result"
    }
   ],
   "source": [
    "df[0:10:3]"
   ]
  },
  {
   "cell_type": "code",
   "execution_count": 20,
   "metadata": {},
   "outputs": [
    {
     "data": {
      "text/plain": [
       "'Jane'"
      ]
     },
     "execution_count": 20,
     "metadata": {},
     "output_type": "execute_result"
    }
   ],
   "source": [
    "df.at[0, \"Name\"]"
   ]
  },
  {
   "cell_type": "code",
   "execution_count": 21,
   "metadata": {},
   "outputs": [
    {
     "data": {
      "text/plain": [
       "'Yala'"
      ]
     },
     "execution_count": 21,
     "metadata": {},
     "output_type": "execute_result"
    }
   ],
   "source": [
    "df.at[4, \"Province\"]"
   ]
  },
  {
   "cell_type": "code",
   "execution_count": 22,
   "metadata": {},
   "outputs": [
    {
     "data": {
      "text/plain": [
       "'Yala'"
      ]
     },
     "execution_count": 22,
     "metadata": {},
     "output_type": "execute_result"
    }
   ],
   "source": [
    "df.iat[4, 5]"
   ]
  },
  {
   "cell_type": "code",
   "execution_count": 23,
   "metadata": {},
   "outputs": [
    {
     "data": {
      "text/html": [
       "<div>\n",
       "<style scoped>\n",
       "    .dataframe tbody tr th:only-of-type {\n",
       "        vertical-align: middle;\n",
       "    }\n",
       "\n",
       "    .dataframe tbody tr th {\n",
       "        vertical-align: top;\n",
       "    }\n",
       "\n",
       "    .dataframe thead th {\n",
       "        text-align: right;\n",
       "    }\n",
       "</style>\n",
       "<table border=\"1\" class=\"dataframe\">\n",
       "  <thead>\n",
       "    <tr style=\"text-align: right;\">\n",
       "      <th></th>\n",
       "      <th>Student ID</th>\n",
       "      <th>Name</th>\n",
       "      <th>Age</th>\n",
       "      <th>Score</th>\n",
       "      <th>Grade</th>\n",
       "      <th>Province</th>\n",
       "    </tr>\n",
       "  </thead>\n",
       "  <tbody>\n",
       "    <tr>\n",
       "      <th>0</th>\n",
       "      <td>5010110405</td>\n",
       "      <td>Jane</td>\n",
       "      <td>31</td>\n",
       "      <td>53.75</td>\n",
       "      <td>D</td>\n",
       "      <td>Songkla</td>\n",
       "    </tr>\n",
       "    <tr>\n",
       "      <th>1</th>\n",
       "      <td>5110110580</td>\n",
       "      <td>Joe</td>\n",
       "      <td>32</td>\n",
       "      <td>37.65</td>\n",
       "      <td>E</td>\n",
       "      <td>Bangkok</td>\n",
       "    </tr>\n",
       "  </tbody>\n",
       "</table>\n",
       "</div>"
      ],
      "text/plain": [
       "   Student ID  Name  Age  Score Grade Province\n",
       "0  5010110405  Jane   31  53.75     D  Songkla\n",
       "1  5110110580   Joe   32  37.65     E  Bangkok"
      ]
     },
     "execution_count": 23,
     "metadata": {},
     "output_type": "execute_result"
    }
   ],
   "source": [
    "# location\n",
    "df.loc[[0, 1]]"
   ]
  },
  {
   "cell_type": "code",
   "execution_count": 24,
   "metadata": {},
   "outputs": [
    {
     "data": {
      "text/html": [
       "<div>\n",
       "<style scoped>\n",
       "    .dataframe tbody tr th:only-of-type {\n",
       "        vertical-align: middle;\n",
       "    }\n",
       "\n",
       "    .dataframe tbody tr th {\n",
       "        vertical-align: top;\n",
       "    }\n",
       "\n",
       "    .dataframe thead th {\n",
       "        text-align: right;\n",
       "    }\n",
       "</style>\n",
       "<table border=\"1\" class=\"dataframe\">\n",
       "  <thead>\n",
       "    <tr style=\"text-align: right;\">\n",
       "      <th></th>\n",
       "      <th>Student ID</th>\n",
       "      <th>Name</th>\n",
       "      <th>Age</th>\n",
       "      <th>Score</th>\n",
       "      <th>Grade</th>\n",
       "      <th>Province</th>\n",
       "    </tr>\n",
       "  </thead>\n",
       "  <tbody>\n",
       "    <tr>\n",
       "      <th>11</th>\n",
       "      <td>6310110243</td>\n",
       "      <td>Utz</td>\n",
       "      <td>20</td>\n",
       "      <td>56.25</td>\n",
       "      <td>D+</td>\n",
       "      <td>Kalasin</td>\n",
       "    </tr>\n",
       "    <tr>\n",
       "      <th>2</th>\n",
       "      <td>6310110042</td>\n",
       "      <td>Dan</td>\n",
       "      <td>19</td>\n",
       "      <td>ขาดสอบ</td>\n",
       "      <td>NaN</td>\n",
       "      <td>Chiangmai</td>\n",
       "    </tr>\n",
       "    <tr>\n",
       "      <th>5</th>\n",
       "      <td>6310110092</td>\n",
       "      <td>Smile</td>\n",
       "      <td>20</td>\n",
       "      <td>60.5</td>\n",
       "      <td>C</td>\n",
       "      <td>Chiangrai</td>\n",
       "    </tr>\n",
       "  </tbody>\n",
       "</table>\n",
       "</div>"
      ],
      "text/plain": [
       "    Student ID   Name  Age   Score Grade   Province\n",
       "11  6310110243    Utz   20   56.25    D+    Kalasin\n",
       "2   6310110042    Dan   19  ขาดสอบ   NaN  Chiangmai\n",
       "5   6310110092  Smile   20    60.5     C  Chiangrai"
      ]
     },
     "execution_count": 24,
     "metadata": {},
     "output_type": "execute_result"
    }
   ],
   "source": [
    "df.loc[[11, 2, 5]]"
   ]
  },
  {
   "cell_type": "markdown",
   "metadata": {},
   "source": [
    "## Create DataFrame from dictionary"
   ]
  },
  {
   "cell_type": "code",
   "execution_count": 25,
   "metadata": {},
   "outputs": [
    {
     "data": {
      "text/html": [
       "<div>\n",
       "<style scoped>\n",
       "    .dataframe tbody tr th:only-of-type {\n",
       "        vertical-align: middle;\n",
       "    }\n",
       "\n",
       "    .dataframe tbody tr th {\n",
       "        vertical-align: top;\n",
       "    }\n",
       "\n",
       "    .dataframe thead th {\n",
       "        text-align: right;\n",
       "    }\n",
       "</style>\n",
       "<table border=\"1\" class=\"dataframe\">\n",
       "  <thead>\n",
       "    <tr style=\"text-align: right;\">\n",
       "      <th></th>\n",
       "      <th>name</th>\n",
       "      <th>age</th>\n",
       "      <th>marks</th>\n",
       "    </tr>\n",
       "  </thead>\n",
       "  <tbody>\n",
       "    <tr>\n",
       "      <th>R0</th>\n",
       "      <td>Joe</td>\n",
       "      <td>20</td>\n",
       "      <td>85.10</td>\n",
       "    </tr>\n",
       "    <tr>\n",
       "      <th>R1</th>\n",
       "      <td>Nat</td>\n",
       "      <td>21</td>\n",
       "      <td>77.80</td>\n",
       "    </tr>\n",
       "    <tr>\n",
       "      <th>R2</th>\n",
       "      <td>Harry</td>\n",
       "      <td>19</td>\n",
       "      <td>91.54</td>\n",
       "    </tr>\n",
       "  </tbody>\n",
       "</table>\n",
       "</div>"
      ],
      "text/plain": [
       "     name  age  marks\n",
       "R0    Joe   20  85.10\n",
       "R1    Nat   21  77.80\n",
       "R2  Harry   19  91.54"
      ]
     },
     "execution_count": 25,
     "metadata": {},
     "output_type": "execute_result"
    }
   ],
   "source": [
    "# Create dict object\n",
    "student_dict = {\n",
    "    \"name\": [\"Joe\", \"Nat\", \"Harry\"],\n",
    "    \"age\": [20, 21, 19],\n",
    "    \"marks\": [85.10, 77.80, 91.54],\n",
    "}\n",
    "\n",
    "# Create DataFrame from dict\n",
    "student_df = pd.DataFrame(student_dict, index=[\"R0\", \"R1\", \"R2\"])\n",
    "student_df"
   ]
  },
  {
   "cell_type": "code",
   "execution_count": 26,
   "metadata": {},
   "outputs": [
    {
     "data": {
      "text/html": [
       "<div>\n",
       "<style scoped>\n",
       "    .dataframe tbody tr th:only-of-type {\n",
       "        vertical-align: middle;\n",
       "    }\n",
       "\n",
       "    .dataframe tbody tr th {\n",
       "        vertical-align: top;\n",
       "    }\n",
       "\n",
       "    .dataframe thead th {\n",
       "        text-align: right;\n",
       "    }\n",
       "</style>\n",
       "<table border=\"1\" class=\"dataframe\">\n",
       "  <thead>\n",
       "    <tr style=\"text-align: right;\">\n",
       "      <th></th>\n",
       "      <th>name</th>\n",
       "      <th>age</th>\n",
       "      <th>marks</th>\n",
       "    </tr>\n",
       "  </thead>\n",
       "  <tbody>\n",
       "    <tr>\n",
       "      <th>R2</th>\n",
       "      <td>Harry</td>\n",
       "      <td>19</td>\n",
       "      <td>91.54</td>\n",
       "    </tr>\n",
       "    <tr>\n",
       "      <th>R1</th>\n",
       "      <td>Nat</td>\n",
       "      <td>21</td>\n",
       "      <td>77.80</td>\n",
       "    </tr>\n",
       "  </tbody>\n",
       "</table>\n",
       "</div>"
      ],
      "text/plain": [
       "     name  age  marks\n",
       "R2  Harry   19  91.54\n",
       "R1    Nat   21  77.80"
      ]
     },
     "execution_count": 26,
     "metadata": {},
     "output_type": "execute_result"
    }
   ],
   "source": [
    "student_df.loc[[\"R2\", \"R1\"]]"
   ]
  },
  {
   "cell_type": "code",
   "execution_count": 27,
   "metadata": {},
   "outputs": [
    {
     "data": {
      "text/html": [
       "<div>\n",
       "<style scoped>\n",
       "    .dataframe tbody tr th:only-of-type {\n",
       "        vertical-align: middle;\n",
       "    }\n",
       "\n",
       "    .dataframe tbody tr th {\n",
       "        vertical-align: top;\n",
       "    }\n",
       "\n",
       "    .dataframe thead th {\n",
       "        text-align: right;\n",
       "    }\n",
       "</style>\n",
       "<table border=\"1\" class=\"dataframe\">\n",
       "  <thead>\n",
       "    <tr style=\"text-align: right;\">\n",
       "      <th></th>\n",
       "      <th>name</th>\n",
       "      <th>age</th>\n",
       "      <th>marks</th>\n",
       "    </tr>\n",
       "  </thead>\n",
       "  <tbody>\n",
       "    <tr>\n",
       "      <th>R2</th>\n",
       "      <td>Harry</td>\n",
       "      <td>19</td>\n",
       "      <td>91.54</td>\n",
       "    </tr>\n",
       "    <tr>\n",
       "      <th>R1</th>\n",
       "      <td>Nat</td>\n",
       "      <td>21</td>\n",
       "      <td>77.80</td>\n",
       "    </tr>\n",
       "  </tbody>\n",
       "</table>\n",
       "</div>"
      ],
      "text/plain": [
       "     name  age  marks\n",
       "R2  Harry   19  91.54\n",
       "R1    Nat   21  77.80"
      ]
     },
     "execution_count": 27,
     "metadata": {},
     "output_type": "execute_result"
    }
   ],
   "source": [
    "# index location\n",
    "student_df.iloc[[2, 1]]"
   ]
  },
  {
   "cell_type": "code",
   "execution_count": 28,
   "metadata": {},
   "outputs": [
    {
     "data": {
      "text/html": [
       "<div>\n",
       "<style scoped>\n",
       "    .dataframe tbody tr th:only-of-type {\n",
       "        vertical-align: middle;\n",
       "    }\n",
       "\n",
       "    .dataframe tbody tr th {\n",
       "        vertical-align: top;\n",
       "    }\n",
       "\n",
       "    .dataframe thead th {\n",
       "        text-align: right;\n",
       "    }\n",
       "</style>\n",
       "<table border=\"1\" class=\"dataframe\">\n",
       "  <thead>\n",
       "    <tr style=\"text-align: right;\">\n",
       "      <th></th>\n",
       "      <th>age</th>\n",
       "      <th>marks</th>\n",
       "    </tr>\n",
       "  </thead>\n",
       "  <tbody>\n",
       "    <tr>\n",
       "      <th>R0</th>\n",
       "      <td>20</td>\n",
       "      <td>85.1</td>\n",
       "    </tr>\n",
       "    <tr>\n",
       "      <th>R1</th>\n",
       "      <td>21</td>\n",
       "      <td>77.8</td>\n",
       "    </tr>\n",
       "  </tbody>\n",
       "</table>\n",
       "</div>"
      ],
      "text/plain": [
       "    age  marks\n",
       "R0   20   85.1\n",
       "R1   21   77.8"
      ]
     },
     "execution_count": 28,
     "metadata": {},
     "output_type": "execute_result"
    }
   ],
   "source": [
    "student_df.loc[[\"R0\", \"R1\"], [\"age\", \"marks\"]]"
   ]
  },
  {
   "cell_type": "code",
   "execution_count": 29,
   "metadata": {},
   "outputs": [
    {
     "data": {
      "text/html": [
       "<div>\n",
       "<style scoped>\n",
       "    .dataframe tbody tr th:only-of-type {\n",
       "        vertical-align: middle;\n",
       "    }\n",
       "\n",
       "    .dataframe tbody tr th {\n",
       "        vertical-align: top;\n",
       "    }\n",
       "\n",
       "    .dataframe thead th {\n",
       "        text-align: right;\n",
       "    }\n",
       "</style>\n",
       "<table border=\"1\" class=\"dataframe\">\n",
       "  <thead>\n",
       "    <tr style=\"text-align: right;\">\n",
       "      <th></th>\n",
       "      <th>name</th>\n",
       "      <th>marks</th>\n",
       "    </tr>\n",
       "  </thead>\n",
       "  <tbody>\n",
       "    <tr>\n",
       "      <th>R1</th>\n",
       "      <td>Nat</td>\n",
       "      <td>77.8</td>\n",
       "    </tr>\n",
       "    <tr>\n",
       "      <th>R0</th>\n",
       "      <td>Joe</td>\n",
       "      <td>85.1</td>\n",
       "    </tr>\n",
       "  </tbody>\n",
       "</table>\n",
       "</div>"
      ],
      "text/plain": [
       "   name  marks\n",
       "R1  Nat   77.8\n",
       "R0  Joe   85.1"
      ]
     },
     "execution_count": 29,
     "metadata": {},
     "output_type": "execute_result"
    }
   ],
   "source": [
    "student_df.loc[[\"R1\", \"R0\"], [\"name\", \"marks\"]]"
   ]
  }
 ],
 "metadata": {
  "kernelspec": {
   "display_name": "Python 3",
   "language": "python",
   "name": "python3"
  },
  "language_info": {
   "codemirror_mode": {
    "name": "ipython",
    "version": 3
   },
   "file_extension": ".py",
   "mimetype": "text/x-python",
   "name": "python",
   "nbconvert_exporter": "python",
   "pygments_lexer": "ipython3",
   "version": "3.11.1"
  }
 },
 "nbformat": 4,
 "nbformat_minor": 2
}
